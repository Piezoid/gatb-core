{
 "cells": [
  {
   "cell_type": "code",
   "execution_count": 165,
   "metadata": {},
   "outputs": [],
   "source": [
    "from subprocess import Popen, PIPE\n",
    "from pathlib import Path\n",
    "from tempfile import NamedTemporaryFile\n",
    "import re\n",
    "import itertools\n",
    "from clang.cindex import Index, CursorKind, SourceLocation, Cursor"
   ]
  },
  {
   "cell_type": "code",
   "execution_count": 2,
   "metadata": {},
   "outputs": [],
   "source": [
    "def grep_cpp_files(*args):\n",
    "    if not args: args = ['SP_SETATTR', 'src/']\n",
    "    proc = Popen(['grep', '-rn', *args], stdout=PIPE)\n",
    "    res = (line.strip().decode().split(':',2) for line in proc.stdout)\n",
    "    res = ((fn, [(int(line), source) for _, line, source in g])\n",
    "           for fn, g in itertools.groupby(res, lambda x: x[0]))\n",
    "    res = list(res)\n",
    "    assert proc.wait() == 0\n",
    "    return res\n",
    "\n",
    "f, occs = grep_cpp_files()[0]\n",
    "line, source = occs[0]\n",
    "lines = [l.strip() for l in open(f)]"
   ]
  },
  {
   "cell_type": "code",
   "execution_count": 45,
   "metadata": {},
   "outputs": [],
   "source": [
    "def index_includes(includes):\n",
    "    tmp = NamedTemporaryFile('w', suffix='.cpp')\n",
    "    tmp.write('\\n'.join(['#include \"%s\"' % str(Path(f).absolute()) for f in includes]))\n",
    "    tmp.file.flush()\n",
    "\n",
    "    index = Index.create()\n",
    "    args='-std=c++17 -I./src -I/usr/lib/clang/5.0.1/include/ -I../../pyGATB-build/ext/gatb-core/include/Release/'.split()\n",
    "    tu = index.parse(tmp.name, args=args)\n",
    "\n",
    "    tmp.close()\n",
    "    return tu\n",
    "\n",
    "tu = index_includes([f for f, occs in grep_cpp_files()])\n",
    "for d in tu.diagnostics:\n",
    "    if d.severity > 3:\n",
    "        print(d.spelling, d.location)"
   ]
  },
  {
   "cell_type": "code",
   "execution_count": 181,
   "metadata": {},
   "outputs": [],
   "source": [
    "def bfs(c, matcher):\n",
    "    children = c.get_children()\n",
    "    while children: \n",
    "        next_level = []\n",
    "        for child in children:\n",
    "            if matcher(child): return child\n",
    "            else: next_level.extend(child.get_children())\n",
    "        children = next_level\n",
    "        \n",
    "        \n",
    "r = bfs(c, matcher=lambda c: c.kind == CursorKind.MEMBER_REF_EXPR)"
   ]
  },
  {
   "cell_type": "code",
   "execution_count": 297,
   "metadata": {},
   "outputs": [],
   "source": [
    "class SourceManager:\n",
    "    def __init__(self):\n",
    "        self.files = {}\n",
    "        \n",
    "    def __getitem__(self, fname):\n",
    "        fname = Path(fname).resolve()\n",
    "        assert fname.is_file()\n",
    "        file = self.files.get(fname)\n",
    "        if file is not None:\n",
    "            return file\n",
    "        else:\n",
    "            file = Source(fname)\n",
    "            self.files[fname] = file\n",
    "            return file\n",
    "        \n",
    "    def modified(self):\n",
    "        for file in self.files.values():\n",
    "            if file.modified:\n",
    "                yield file\n",
    "                \n",
    "    def save(self):\n",
    "        for file in self.files.values():\n",
    "            file.save()\n",
    "        \n",
    "class Source:\n",
    "    def __init__(self, fname):\n",
    "        self.fname = fname\n",
    "        self.lines = open(fname, 'rt').read().split('\\n')\n",
    "        self.modified = False\n",
    "    def __repr__(self):\n",
    "        return '<File \"%s\"%s>' % (self.fname.relative_to(Path.cwd()), \" modified\" if self.modified else \"\")\n",
    "    \n",
    "    def __getitem__(self, line):\n",
    "        assert line > 0\n",
    "        return self.lines[line-1]\n",
    "    \n",
    "    def __setitem__(self, line, source):\n",
    "        self.modified = self.lines[line-1] != source\n",
    "        self.lines[line-1] = source\n",
    "        \n",
    "    def save(self):\n",
    "        if not self.modified: return False\n",
    "        open(self.fname, 'w').write('\\n'.join(self.lines))\n",
    "        return True\n",
    "        \n",
    "    \n",
    "sm = SourceManager()"
   ]
  },
  {
   "cell_type": "code",
   "execution_count": 301,
   "metadata": {},
   "outputs": [
    {
     "name": "stdout",
     "output_type": "stream",
     "text": [
      "Regexp failled:     void setNodeCache   (NodeCacheMap*          nodecache)  { _nodecache = nodecache; /* would like to do \"SP_SETATTR (nodecache)\" but nodecache is an unordered_map, not some type that derives from a smartpointer. so one day, address this. I'm not sure if it's important though. Anyway I'm phasing out NodeCache in favor of GraphUnitigs. */; }\n",
      "Regexp failled:  *  and destructors. Moreover, one can use the SP_SETATTR macro which eases this process.\n",
      "Regexp failled:  *  \\see SP_SETATTR\n",
      "Regexp failled:  *  \\see SP_SETATTR\n"
     ]
    }
   ],
   "source": [
    "spsetattr_re = re.compile(r'SP_SETATTR\\s*\\((\\w+?)\\)\\s*;')\n",
    "sm = SourceManager()\n",
    "\n",
    "for f, occs in grep_cpp_files():\n",
    "    lines = [l for l in open(f)]\n",
    "    for line, source in occs:\n",
    "        m = spsetattr_re.search(source)\n",
    "        if not m:\n",
    "            print(\"Regexp failled:\", source)\n",
    "            continue\n",
    "        \n",
    "        setter_file = sm[f]\n",
    "        assert setter_file[line] == source\n",
    "        #setter_file[line] = spsetattr_re.sub(r'_\\1 = \\1;', setter_file[line])\n",
    "        #assert setter_file[line] != source\n",
    "            \n",
    "        c = Cursor.from_location(tu, tu.get_location(f, (line, m.start()+1)))\n",
    "        c = bfs(c, matcher=lambda c: c.kind == CursorKind.MEMBER_REF_EXPR)\n",
    "        if not c or not c.spelling.startswith('_'):\n",
    "            print(\"Could not find attribute declaration :\", source)\n",
    "            continue\n",
    "\n",
    "        defloc = c.referenced.location   \n",
    "        deffile = sm[defloc.file.name]\n",
    "        defline = deffile[defloc.line]\n",
    "        \n",
    "        deffile[defloc.line] = re.sub(r'(\\w.*?)\\s*\\*', r'std::shared_ptr<\\1>', defline, 1)\n",
    "\n",
    "        #print(defline)\n"
   ]
  },
  {
   "cell_type": "code",
   "execution_count": 302,
   "metadata": {},
   "outputs": [],
   "source": [
    "sm.save()"
   ]
  },
  {
   "cell_type": "code",
   "execution_count": 269,
   "metadata": {},
   "outputs": [
    {
     "data": {
      "text/plain": [
       "PosixPath('src')"
      ]
     },
     "execution_count": 269,
     "metadata": {},
     "output_type": "execute_result"
    }
   ],
   "source": [
    "Path.relative_to(Path('src').absolute(), "
   ]
  },
  {
   "cell_type": "code",
   "execution_count": null,
   "metadata": {},
   "outputs": [],
   "source": []
  },
  {
   "cell_type": "code",
   "execution_count": 86,
   "metadata": {},
   "outputs": [
    {
     "data": {
      "text/plain": [
       "'void setRoot (Group* root)  { SP_SETATTR(root); }'"
      ]
     },
     "execution_count": 86,
     "metadata": {},
     "output_type": "execute_result"
    }
   ],
   "source": [
    "lines[line-1]"
   ]
  },
  {
   "cell_type": "code",
   "execution_count": 146,
   "metadata": {},
   "outputs": [
    {
     "name": "stdout",
     "output_type": "stream",
     "text": [
      "CursorKind.CXX_METHOD\n"
     ]
    }
   ],
   "source": [
    "\n"
   ]
  },
  {
   "cell_type": "code",
   "execution_count": null,
   "metadata": {},
   "outputs": [],
   "source": [
    "def "
   ]
  },
  {
   "cell_type": "code",
   "execution_count": 144,
   "metadata": {},
   "outputs": [
    {
     "name": "stdout",
     "output_type": "stream",
     "text": [
      "CursorKind.CXX_METHOD\n",
      "CursorKind.PARM_DECL\n",
      "CursorKind.TYPE_REF\n",
      "CursorKind.COMPOUND_STMT\n",
      "CursorKind.COMPOUND_STMT\n",
      "CursorKind.IF_STMT\n",
      "CursorKind.BINARY_OPERATOR\n",
      "CursorKind.UNEXPOSED_EXPR\n",
      "CursorKind.MEMBER_REF_EXPR\n",
      "CursorKind.UNEXPOSED_EXPR\n",
      "CursorKind.DECL_REF_EXPR\n",
      "CursorKind.COMPOUND_STMT\n",
      "CursorKind.RETURN_STMT\n",
      "CursorKind.IF_STMT\n",
      "CursorKind.BINARY_OPERATOR\n",
      "CursorKind.UNEXPOSED_EXPR\n",
      "CursorKind.MEMBER_REF_EXPR\n",
      "CursorKind.UNEXPOSED_EXPR\n",
      "CursorKind.INTEGER_LITERAL\n",
      "CursorKind.COMPOUND_STMT\n",
      "CursorKind.CALL_EXPR\n",
      "CursorKind.MEMBER_REF_EXPR\n",
      "CursorKind.UNEXPOSED_EXPR\n",
      "CursorKind.UNEXPOSED_EXPR\n",
      "CursorKind.MEMBER_REF_EXPR\n",
      "CursorKind.BINARY_OPERATOR\n",
      "CursorKind.MEMBER_REF_EXPR\n",
      "CursorKind.UNEXPOSED_EXPR\n",
      "CursorKind.DECL_REF_EXPR\n",
      "CursorKind.IF_STMT\n",
      "CursorKind.BINARY_OPERATOR\n",
      "CursorKind.UNEXPOSED_EXPR\n",
      "CursorKind.MEMBER_REF_EXPR\n",
      "CursorKind.UNEXPOSED_EXPR\n",
      "CursorKind.INTEGER_LITERAL\n",
      "CursorKind.COMPOUND_STMT\n",
      "CursorKind.CALL_EXPR\n",
      "CursorKind.MEMBER_REF_EXPR\n",
      "CursorKind.UNEXPOSED_EXPR\n",
      "CursorKind.UNEXPOSED_EXPR\n",
      "CursorKind.MEMBER_REF_EXPR\n",
      "CursorKind.NULL_STMT\n"
     ]
    }
   ],
   "source": [
    "for c in tu.cursor.from_location(tu,l).walk_preorder():\n",
    "    print(c.kind)"
   ]
  },
  {
   "cell_type": "code",
   "execution_count": 245,
   "metadata": {},
   "outputs": [
    {
     "data": {
      "text/plain": [
       "'void setBufferData (tools::misc::Data* bufferData)  { SP_SETATTR(bufferData); }'"
      ]
     },
     "execution_count": 245,
     "metadata": {},
     "output_type": "execute_result"
    }
   ],
   "source": [
    "lines[line-1]"
   ]
  },
  {
   "cell_type": "code",
   "execution_count": 236,
   "metadata": {},
   "outputs": [
    {
     "data": {
      "text/plain": [
       "[('src/gatb/bank/impl/BankBinary.hpp',\n",
       "  161,\n",
       "  '        void setBufferData (tools::misc::Data* bufferData)  { SP_SETATTR(bufferData); }'),\n",
       " ('src/gatb/bank/impl/BankConverterAlgorithm.hpp',\n",
       "  83,\n",
       "  '    void setBankInput (IBank* bankInput)  { SP_SETATTR(bankInput); }'),\n",
       " ('src/gatb/bank/impl/BankConverterAlgorithm.hpp',\n",
       "  86,\n",
       "  '    void setBankOutput (IBank* bankOutput)  { SP_SETATTR(bankOutput); }'),\n",
       " ('src/gatb/bank/impl/BankHelpers.hpp',\n",
       "  125,\n",
       "  '    void setRef (IBank* ref)  { SP_SETATTR(ref); }'),\n",
       " ('src/gatb/bank/impl/BankRandom.hpp',\n",
       "  116,\n",
       "  '        void setDataRef (tools::misc::Data* dataRef)  { SP_SETATTR(dataRef); }'),\n",
       " ('src/gatb/bank/impl/BankSplitter.hpp',\n",
       "  130,\n",
       "  '        void setDataRef (tools::misc::Data* dataRef)  { SP_SETATTR(dataRef); }'),\n",
       " ('src/gatb/bank/impl/BankSplitter.hpp',\n",
       "  133,\n",
       "  '        void setItRef (tools::dp::Iterator<Sequence>* itRef)  { SP_SETATTR(itRef); }'),\n",
       " ('src/gatb/bank/impl/BankSplitter.hpp',\n",
       "  149,\n",
       "  '    void setReference (IBank* reference) { SP_SETATTR(reference); }'),\n",
       " ('src/gatb/debruijn/impl/BranchingAlgorithm.hpp',\n",
       "  109,\n",
       "  '    void setBranchingCollection (tools::collections::Collection<Count>* branchingCollection)  {  SP_SETATTR(branchingCollection); }'),\n",
       " ('src/gatb/debruijn/impl/ContainerNode.hpp',\n",
       "  79,\n",
       "  '\\tvoid setBloom (tools::collections::Container<Item>* bloom)  { SP_SETATTR(bloom); }'),\n",
       " ('src/gatb/debruijn/impl/ContainerNode.hpp',\n",
       "  82,\n",
       "  '\\tvoid setFalsePositives (tools::collections::Container<Item>* falsePositives)  { SP_SETATTR(falsePositives); }'),\n",
       " ('src/gatb/debruijn/impl/ContainerNode.hpp',\n",
       "  156,\n",
       "  '    void setBloom (tools::collections::Container<Item>* bloom)  { SP_SETATTR(bloom); }'),\n",
       " ('src/gatb/debruijn/impl/ContainerNode.hpp',\n",
       "  159,\n",
       "  '\\tvoid setBloom2 (tools::collections::Container<Item>* bloom2)  { SP_SETATTR(bloom2); }'),\n",
       " ('src/gatb/debruijn/impl/ContainerNode.hpp',\n",
       "  162,\n",
       "  '\\tvoid setBloom3 (tools::collections::Container<Item>* bloom3)  { SP_SETATTR(bloom3); }'),\n",
       " ('src/gatb/debruijn/impl/ContainerNode.hpp',\n",
       "  165,\n",
       "  '\\tvoid setBloom4 (tools::collections::Container<Item>* bloom4)  { SP_SETATTR(bloom4); }'),\n",
       " ('src/gatb/debruijn/impl/ContainerNode.hpp',\n",
       "  168,\n",
       "  '\\tvoid setFalsePositives (tools::collections::Container<Item>* falsePositives)  { SP_SETATTR(falsePositives); }'),\n",
       " ('src/gatb/debruijn/impl/Graph.hpp',\n",
       "  472,\n",
       "  '        void setRef (tools::dp::ISmartIterator<Item>* ref)  { SP_SETATTR(ref); }'),\n",
       " ('src/gatb/debruijn/impl/Graph.hpp',\n",
       "  1038,\n",
       "  '    void setStorage (tools::storage::impl::Storage* storage)  { SP_SETATTR(storage); }'),\n",
       " ('src/gatb/debruijn/impl/Graph.hpp',\n",
       "  1239,\n",
       "  '    void setModel       (Model*                                       model)      { SP_SETATTR (model);     }'),\n",
       " ('src/gatb/debruijn/impl/Graph.hpp',\n",
       "  1240,\n",
       "  '    void setSolid       (tools::storage::impl::Partition<Count>*      solid)      { SP_SETATTR (solid);     }'),\n",
       " ('src/gatb/debruijn/impl/Graph.hpp',\n",
       "  1241,\n",
       "  '    void setContainer   (IContainerNode<Type>*                    container)  { SP_SETATTR (container); }'),\n",
       " ('src/gatb/debruijn/impl/Graph.hpp',\n",
       "  1242,\n",
       "  '    void setBranching   (tools::collections::Collection<Count>*   branching)  { SP_SETATTR (branching); }'),\n",
       " ('src/gatb/debruijn/impl/Graph.hpp',\n",
       "  1243,\n",
       "  '    void setAbundance   (AbundanceMap*          abundance)  { SP_SETATTR (abundance); }'),\n",
       " ('src/gatb/debruijn/impl/Graph.hpp',\n",
       "  1244,\n",
       "  '    void setNodeState   (NodeStateMap*          nodestate)  { SP_SETATTR (nodestate); }'),\n",
       " ('src/gatb/debruijn/impl/Graph.hpp',\n",
       "  1245,\n",
       "  '    void setAdjacency   (AdjacencyMap*          adjacency)  { SP_SETATTR (adjacency); }'),\n",
       " ('src/gatb/debruijn/impl/Graph.hpp',\n",
       "  1246,\n",
       "  '    void setNodeCache   (NodeCacheMap*          nodecache)  { _nodecache = nodecache; /* would like to do \"SP_SETATTR (nodecache)\" but nodecache is an unordered_map, not some type that derives from a smartpointer. so one day, address this. I\\'m not sure if it\\'s important though. Anyway I\\'m phasing out NodeCache in favor of GraphUnitigs. */; }'),\n",
       " ('src/gatb/debruijn/impl/Graph.cpp',\n",
       "  2320,\n",
       "  '            void setRef (tools::dp::Iterator<Count>* ref)  { SP_SETATTR(ref); }'),\n",
       " ('src/gatb/kmer/impl/BankKmerIterator.hpp',\n",
       "  154,\n",
       "  '    void setItSeq (tools::dp::Iterator<bank::Sequence>* itSeq)  { SP_SETATTR(itSeq); }'),\n",
       " ('src/gatb/kmer/impl/BankKmerIterator.hpp',\n",
       "  268,\n",
       "  '    void setItSeq (tools::dp::Iterator<bank::Sequence>* itSeq)  { SP_SETATTR(itSeq); }'),\n",
       " ('src/gatb/kmer/impl/BloomAlgorithm.hpp',\n",
       "  92,\n",
       "  '    void setSolidIterable (tools::collections::Iterable<Count>* solidIterable)  {  SP_SETATTR(solidIterable); }'),\n",
       " ('src/gatb/kmer/impl/ConfigurationAlgorithm.hpp',\n",
       "  69,\n",
       "  '    void setBank (bank::IBank* bank) { SP_SETATTR(bank); }'),\n",
       " ('src/gatb/kmer/impl/ConfigurationAlgorithm.hpp',\n",
       "  72,\n",
       "  '    void setInput (tools::misc::IProperties* input)  { SP_SETATTR(input); }'),\n",
       " ('src/gatb/kmer/impl/CountProcessorDump.hpp',\n",
       "  209,\n",
       "  '    void setSynchronizer (system::ISynchronizer* synchronizer)  { SP_SETATTR(synchronizer); }'),\n",
       " ('src/gatb/kmer/impl/CountProcessorDump.hpp',\n",
       "  212,\n",
       "  '    void setSolidCounts (tools::storage::impl::Partition<Count>* solidCounts) { SP_SETATTR(solidCounts); }'),\n",
       " ('src/gatb/kmer/impl/CountProcessorDump.hpp',\n",
       "  215,\n",
       "  '    void setSolidKmers (tools::collections::Bag<Count>* solidKmers)  {  SP_SETATTR(solidKmers);  }'),\n",
       " ('src/gatb/kmer/impl/CountProcessorProxy.hpp',\n",
       "  105,\n",
       "  '    void setRef (ICountProcessor<span>* ref) { SP_SETATTR(ref); }'),\n",
       " ('src/gatb/kmer/impl/DebloomAlgorithm.hpp',\n",
       "  183,\n",
       "  '    void setSolidIterable (tools::storage::impl::Partition<Count>* solidIterable)  {  SP_SETATTR(solidIterable); }'),\n",
       " ('src/gatb/kmer/impl/DebloomAlgorithm.hpp',\n",
       "  189,\n",
       "  '    void setDebloomStructures (debruijn::IContainerNode<Type>* container)  { SP_SETATTR(container); }'),\n",
       " ('src/gatb/kmer/impl/MPHFAlgorithm.hpp',\n",
       "  145,\n",
       "  '    void setSolidCounts (tools::collections::Iterable<Count>* solidCounts)  {  SP_SETATTR(solidCounts); }'),\n",
       " ('src/gatb/kmer/impl/MPHFAlgorithm.hpp',\n",
       "  149,\n",
       "  '    void setSolidKmers (tools::collections::Iterable<Type>* solidKmers)  {  SP_SETATTR(solidKmers); }'),\n",
       " ('src/gatb/kmer/impl/MPHFAlgorithm.hpp',\n",
       "  155,\n",
       "  '    void setAbundanceMap (AbundanceMap* abundanceMap)  { SP_SETATTR(abundanceMap); }'),\n",
       " ('src/gatb/kmer/impl/MPHFAlgorithm.hpp',\n",
       "  156,\n",
       "  '    void setNodeStateMap (NodeStateMap* nodeStateMap)  { SP_SETATTR(nodeStateMap); }'),\n",
       " ('src/gatb/kmer/impl/MPHFAlgorithm.hpp',\n",
       "  157,\n",
       "  '    void setAdjacencyMap (AdjacencyMap* adjacencyMap)  { SP_SETATTR(adjacencyMap); }'),\n",
       " ('src/gatb/kmer/impl/MPHFAlgorithm.hpp',\n",
       "  181,\n",
       "  '    void setProgress (tools::dp::IteratorListener* progress)  { SP_SETATTR(progress); }'),\n",
       " ('src/gatb/kmer/impl/CountProcessorHistogram.hpp',\n",
       "  159,\n",
       "  '    void setHistogram (gatb::core::tools::misc::IHistogram* histogram)  { SP_SETATTR(histogram); }'),\n",
       " ('src/gatb/kmer/impl/PartitionsCommand.hpp',\n",
       "  157,\n",
       "  '    void setProcessor (CountProcessor* processor)  { SP_SETATTR(processor); }'),\n",
       " ('src/gatb/kmer/impl/PartitionsCommand.hpp',\n",
       "  328,\n",
       "  '\\tvoid setProcessor (CountProcessor* processor)  { SP_SETATTR(processor); }'),\n",
       " ('src/gatb/kmer/impl/SortingCountAlgorithm.hpp',\n",
       "  223,\n",
       "  '    void setBank (gatb::core::bank::IBank* bank)  { SP_SETATTR(bank); }'),\n",
       " ('src/gatb/kmer/impl/SortingCountAlgorithm.hpp',\n",
       "  227,\n",
       "  '    void setRepartitor (Repartitor* repartitor)  { SP_SETATTR(repartitor); }'),\n",
       " ('src/gatb/kmer/impl/SortingCountAlgorithm.hpp',\n",
       "  235,\n",
       "  '    void setProgress (gatb::core::tools::dp::IteratorListener* progress)  { SP_SETATTR(progress); }'),\n",
       " ('src/gatb/kmer/impl/SortingCountAlgorithm.hpp',\n",
       "  239,\n",
       "  '    void setPartitionsStorage (tools::storage::impl::Storage* tmpPartitionsStorage)  {  SP_SETATTR(tmpPartitionsStorage);  }'),\n",
       " ('src/gatb/kmer/impl/SortingCountAlgorithm.hpp',\n",
       "  243,\n",
       "  '    void setPartitions (tools::storage::impl::Partition<Type>* tmpPartitions)  {  SP_SETATTR(tmpPartitions);  }'),\n",
       " ('src/gatb/kmer/impl/SortingCountAlgorithm.hpp',\n",
       "  257,\n",
       "  '    void setStorage (tools::storage::impl::Storage* storage)  { SP_SETATTR(storage); }'),\n",
       " ('src/gatb/system/api/ISmartPointer.hpp',\n",
       "  64,\n",
       "  ' *  and destructors. Moreover, one can use the SP_SETATTR macro which eases this process.'),\n",
       " ('src/gatb/system/api/ISmartPointer.hpp', 67, ' *  \\\\see SP_SETATTR'),\n",
       " ('src/gatb/system/api/ISmartPointer.hpp', 94, ' *  \\\\see SP_SETATTR'),\n",
       " ('src/gatb/system/api/ISmartPointer.hpp',\n",
       "  217,\n",
       "  ' * \\\\li in the private (or protected) part, defines a smart setter for the attribute by using the SP_SETATTR macro'),\n",
       " ('src/gatb/system/api/ISmartPointer.hpp',\n",
       "  228,\n",
       "  ' *      void setPtr (SomeSmartPointerClass* ptr)  { SP_SETATTR(ptr); }'),\n",
       " ('src/gatb/system/api/ISmartPointer.hpp', 234, '#define SP_SETATTR(a)  \\\\'),\n",
       " ('src/gatb/system/api/ISmartPointer.hpp',\n",
       "  256,\n",
       "  '    void setRef (ISmartPointer* ref)  {  SP_SETATTR(ref); }'),\n",
       " ('src/gatb/tools/collections/impl/BagCache.hpp',\n",
       "  117,\n",
       "  '    void setRef (Bag<Item>* ref)  { SP_SETATTR(ref); }'),\n",
       " ('src/gatb/tools/collections/impl/BagCache.hpp',\n",
       "  120,\n",
       "  '    void setSynchro (system::ISynchronizer* synchro)  { SP_SETATTR(synchro); }'),\n",
       " ('src/gatb/tools/collections/impl/BagCache.hpp',\n",
       "  195,\n",
       "  '    void setOutSynchro (system::ISynchronizer* outsynchro)  { SP_SETATTR(outsynchro); }'),\n",
       " ('src/gatb/tools/collections/impl/CollectionAbstract.hpp',\n",
       "  135,\n",
       "  '    void setBag (Bag<Item>* bag)  { SP_SETATTR(bag); }'),\n",
       " ('src/gatb/tools/collections/impl/CollectionAbstract.hpp',\n",
       "  138,\n",
       "  '    void setIterable (Iterable<Item>* iterable)  { SP_SETATTR(iterable); }'),\n",
       " ('src/gatb/tools/compression/Leon.hpp',\n",
       "  271,\n",
       "  '\\t\\tvoid setInputBank (IBank* inputBank) { SP_SETATTR(inputBank); }'),\n",
       " ('src/gatb/tools/designpattern/impl/Command.cpp',\n",
       "  58,\n",
       "  '    void setRef (ICommand* ref)  { SP_SETATTR(ref); }'),\n",
       " ('src/gatb/tools/designpattern/impl/IteratorHelpers.hpp',\n",
       "  258,\n",
       "  '    void setIt1 (Iterator<T1>* it1)  { SP_SETATTR(it1); }'),\n",
       " ('src/gatb/tools/designpattern/impl/IteratorHelpers.hpp',\n",
       "  262,\n",
       "  '    void setIt2 (Iterator<T2>* it2)  { SP_SETATTR(it2); }'),\n",
       " ('src/gatb/tools/designpattern/impl/IteratorHelpers.hpp',\n",
       "  461,\n",
       "  '    void setRef (Iterator<Item>* ref)  { SP_SETATTR(ref); }'),\n",
       " ('src/gatb/tools/designpattern/impl/IteratorHelpers.hpp',\n",
       "  699,\n",
       "  '    void setRef (Iterator<Item>* ref)  { SP_SETATTR(ref); }'),\n",
       " ('src/gatb/tools/designpattern/impl/IteratorHelpers.hpp',\n",
       "  1048,\n",
       "  '    void setRef (Iterator<T1>* ref)  { SP_SETATTR(ref); }'),\n",
       " ('src/gatb/tools/misc/api/Vector.hpp',\n",
       "  143,\n",
       "  '    void setRef (Vector* ref)  {  SP_SETATTR(ref);  }'),\n",
       " ('src/gatb/tools/misc/impl/Algorithm.hpp',\n",
       "  184,\n",
       "  '    void setInput      (IProperties*            input)       { SP_SETATTR (input);      }'),\n",
       " ('src/gatb/tools/misc/impl/Algorithm.hpp',\n",
       "  185,\n",
       "  '    void setOutput     (IProperties*            output)      { SP_SETATTR (output);     }'),\n",
       " ('src/gatb/tools/misc/impl/Algorithm.hpp',\n",
       "  186,\n",
       "  '    void setInfo       (IProperties*            info)        { SP_SETATTR (info);       }'),\n",
       " ('src/gatb/tools/misc/impl/Algorithm.hpp',\n",
       "  187,\n",
       "  '    void setSystemInfo (IProperties*            systemInfo)  { SP_SETATTR (systemInfo); }'),\n",
       " ('src/gatb/tools/misc/impl/Algorithm.hpp',\n",
       "  188,\n",
       "  '    void setDispatcher (dp::IDispatcher*        dispatcher)  { SP_SETATTR (dispatcher); }'),\n",
       " ('src/gatb/tools/misc/impl/OptionsParser.hpp',\n",
       "  136,\n",
       "  '    void setProperties (misc::IProperties* properties)  { SP_SETATTR(properties); }'),\n",
       " ('src/gatb/tools/misc/impl/Progress.hpp',\n",
       "  183,\n",
       "  '    void setCpuInfo (system::ISystemInfo::CpuInfo* cpuinfo)  { SP_SETATTR(cpuinfo); }'),\n",
       " ('src/gatb/tools/misc/impl/Progress.hpp',\n",
       "  227,\n",
       "  '    void setRef (dp::IteratorListener* ref)  { SP_SETATTR(ref); }'),\n",
       " ('src/gatb/tools/misc/impl/Progress.hpp',\n",
       "  267,\n",
       "  '    void setSynchro (system::ISynchronizer* synchro)  { SP_SETATTR(synchro); }'),\n",
       " ('src/gatb/tools/misc/impl/Tool.hpp',\n",
       "  217,\n",
       "  '    void setInput      (IProperties*            input)       { SP_SETATTR (input);      }'),\n",
       " ('src/gatb/tools/misc/impl/Tool.hpp',\n",
       "  218,\n",
       "  '    void setOutput     (IProperties*            output)      { SP_SETATTR (output);     }'),\n",
       " ('src/gatb/tools/misc/impl/Tool.hpp',\n",
       "  219,\n",
       "  '    void setInfo       (IProperties*            info)        { SP_SETATTR (info);       }'),\n",
       " ('src/gatb/tools/misc/impl/Tool.hpp',\n",
       "  220,\n",
       "  '    void setParser     (IOptionsParser*         parser)      { SP_SETATTR (parser);     }'),\n",
       " ('src/gatb/tools/misc/impl/Tool.hpp',\n",
       "  221,\n",
       "  '    void setDispatcher (dp::IDispatcher*        dispatcher)  { SP_SETATTR (dispatcher); }'),\n",
       " ('src/gatb/tools/misc/impl/Histogram.hpp',\n",
       "  219,\n",
       "  '    void setRef (IHistogram* ref)  { SP_SETATTR(ref); }'),\n",
       " ('src/gatb/tools/misc/impl/Pool.hpp',\n",
       "  432,\n",
       "  '    void setSynchro (system::ISynchronizer* synchro) { SP_SETATTR(synchro); }'),\n",
       " ('src/gatb/tools/storage/impl/CollectionHDF5Patch.hpp',\n",
       "  313,\n",
       "  '    void setCommon (CollectionDataHDF5Patch<Item>* common)  { SP_SETATTR(common); }'),\n",
       " ('src/gatb/tools/storage/impl/CollectionHDF5Patch.hpp',\n",
       "  362,\n",
       "  '    void setCommon (CollectionDataHDF5Patch<Item>* common)  { SP_SETATTR(common); }'),\n",
       " ('src/gatb/tools/storage/impl/Storage.cpp', 107, '    SP_SETATTR(factory);'),\n",
       " ('src/gatb/tools/storage/impl/Storage.hpp',\n",
       "  144,\n",
       "  '    void setRef (collections::Collection<Item>* ref)  { SP_SETATTR(ref); }'),\n",
       " ('src/gatb/tools/storage/impl/Storage.hpp',\n",
       "  573,\n",
       "  '    void setRoot (Group* root)  { SP_SETATTR(root); }')]"
      ]
     },
     "execution_count": 236,
     "metadata": {},
     "output_type": "execute_result"
    }
   ],
   "source": [
    "get_cpp_files()"
   ]
  },
  {
   "cell_type": "code",
   "execution_count": 237,
   "metadata": {},
   "outputs": [
    {
     "name": "stdout",
     "output_type": "stream",
     "text": [
      "src/gatb/bank/impl/BankBinary.hpp [('src/gatb/bank/impl/BankBinary.hpp', 161, '        void setBufferData (tools::misc::Data* bufferData)  { SP_SETATTR(bufferData); }')]\n",
      "src/gatb/bank/impl/BankConverterAlgorithm.hpp [('src/gatb/bank/impl/BankConverterAlgorithm.hpp', 83, '    void setBankInput (IBank* bankInput)  { SP_SETATTR(bankInput); }'), ('src/gatb/bank/impl/BankConverterAlgorithm.hpp', 86, '    void setBankOutput (IBank* bankOutput)  { SP_SETATTR(bankOutput); }')]\n",
      "src/gatb/bank/impl/BankHelpers.hpp [('src/gatb/bank/impl/BankHelpers.hpp', 125, '    void setRef (IBank* ref)  { SP_SETATTR(ref); }')]\n",
      "src/gatb/bank/impl/BankRandom.hpp [('src/gatb/bank/impl/BankRandom.hpp', 116, '        void setDataRef (tools::misc::Data* dataRef)  { SP_SETATTR(dataRef); }')]\n",
      "src/gatb/bank/impl/BankSplitter.hpp [('src/gatb/bank/impl/BankSplitter.hpp', 130, '        void setDataRef (tools::misc::Data* dataRef)  { SP_SETATTR(dataRef); }'), ('src/gatb/bank/impl/BankSplitter.hpp', 133, '        void setItRef (tools::dp::Iterator<Sequence>* itRef)  { SP_SETATTR(itRef); }'), ('src/gatb/bank/impl/BankSplitter.hpp', 149, '    void setReference (IBank* reference) { SP_SETATTR(reference); }')]\n",
      "src/gatb/debruijn/impl/BranchingAlgorithm.hpp [('src/gatb/debruijn/impl/BranchingAlgorithm.hpp', 109, '    void setBranchingCollection (tools::collections::Collection<Count>* branchingCollection)  {  SP_SETATTR(branchingCollection); }')]\n",
      "src/gatb/debruijn/impl/ContainerNode.hpp [('src/gatb/debruijn/impl/ContainerNode.hpp', 79, '\\tvoid setBloom (tools::collections::Container<Item>* bloom)  { SP_SETATTR(bloom); }'), ('src/gatb/debruijn/impl/ContainerNode.hpp', 82, '\\tvoid setFalsePositives (tools::collections::Container<Item>* falsePositives)  { SP_SETATTR(falsePositives); }'), ('src/gatb/debruijn/impl/ContainerNode.hpp', 156, '    void setBloom (tools::collections::Container<Item>* bloom)  { SP_SETATTR(bloom); }'), ('src/gatb/debruijn/impl/ContainerNode.hpp', 159, '\\tvoid setBloom2 (tools::collections::Container<Item>* bloom2)  { SP_SETATTR(bloom2); }'), ('src/gatb/debruijn/impl/ContainerNode.hpp', 162, '\\tvoid setBloom3 (tools::collections::Container<Item>* bloom3)  { SP_SETATTR(bloom3); }'), ('src/gatb/debruijn/impl/ContainerNode.hpp', 165, '\\tvoid setBloom4 (tools::collections::Container<Item>* bloom4)  { SP_SETATTR(bloom4); }'), ('src/gatb/debruijn/impl/ContainerNode.hpp', 168, '\\tvoid setFalsePositives (tools::collections::Container<Item>* falsePositives)  { SP_SETATTR(falsePositives); }')]\n",
      "src/gatb/debruijn/impl/Graph.hpp [('src/gatb/debruijn/impl/Graph.hpp', 472, '        void setRef (tools::dp::ISmartIterator<Item>* ref)  { SP_SETATTR(ref); }'), ('src/gatb/debruijn/impl/Graph.hpp', 1038, '    void setStorage (tools::storage::impl::Storage* storage)  { SP_SETATTR(storage); }'), ('src/gatb/debruijn/impl/Graph.hpp', 1239, '    void setModel       (Model*                                       model)      { SP_SETATTR (model);     }'), ('src/gatb/debruijn/impl/Graph.hpp', 1240, '    void setSolid       (tools::storage::impl::Partition<Count>*      solid)      { SP_SETATTR (solid);     }'), ('src/gatb/debruijn/impl/Graph.hpp', 1241, '    void setContainer   (IContainerNode<Type>*                    container)  { SP_SETATTR (container); }'), ('src/gatb/debruijn/impl/Graph.hpp', 1242, '    void setBranching   (tools::collections::Collection<Count>*   branching)  { SP_SETATTR (branching); }'), ('src/gatb/debruijn/impl/Graph.hpp', 1243, '    void setAbundance   (AbundanceMap*          abundance)  { SP_SETATTR (abundance); }'), ('src/gatb/debruijn/impl/Graph.hpp', 1244, '    void setNodeState   (NodeStateMap*          nodestate)  { SP_SETATTR (nodestate); }'), ('src/gatb/debruijn/impl/Graph.hpp', 1245, '    void setAdjacency   (AdjacencyMap*          adjacency)  { SP_SETATTR (adjacency); }'), ('src/gatb/debruijn/impl/Graph.hpp', 1246, '    void setNodeCache   (NodeCacheMap*          nodecache)  { _nodecache = nodecache; /* would like to do \"SP_SETATTR (nodecache)\" but nodecache is an unordered_map, not some type that derives from a smartpointer. so one day, address this. I\\'m not sure if it\\'s important though. Anyway I\\'m phasing out NodeCache in favor of GraphUnitigs. */; }')]\n",
      "src/gatb/debruijn/impl/Graph.cpp [('src/gatb/debruijn/impl/Graph.cpp', 2320, '            void setRef (tools::dp::Iterator<Count>* ref)  { SP_SETATTR(ref); }')]\n",
      "src/gatb/kmer/impl/BankKmerIterator.hpp [('src/gatb/kmer/impl/BankKmerIterator.hpp', 154, '    void setItSeq (tools::dp::Iterator<bank::Sequence>* itSeq)  { SP_SETATTR(itSeq); }'), ('src/gatb/kmer/impl/BankKmerIterator.hpp', 268, '    void setItSeq (tools::dp::Iterator<bank::Sequence>* itSeq)  { SP_SETATTR(itSeq); }')]\n",
      "src/gatb/kmer/impl/BloomAlgorithm.hpp [('src/gatb/kmer/impl/BloomAlgorithm.hpp', 92, '    void setSolidIterable (tools::collections::Iterable<Count>* solidIterable)  {  SP_SETATTR(solidIterable); }')]\n",
      "src/gatb/kmer/impl/ConfigurationAlgorithm.hpp [('src/gatb/kmer/impl/ConfigurationAlgorithm.hpp', 69, '    void setBank (bank::IBank* bank) { SP_SETATTR(bank); }'), ('src/gatb/kmer/impl/ConfigurationAlgorithm.hpp', 72, '    void setInput (tools::misc::IProperties* input)  { SP_SETATTR(input); }')]\n",
      "src/gatb/kmer/impl/CountProcessorDump.hpp [('src/gatb/kmer/impl/CountProcessorDump.hpp', 209, '    void setSynchronizer (system::ISynchronizer* synchronizer)  { SP_SETATTR(synchronizer); }'), ('src/gatb/kmer/impl/CountProcessorDump.hpp', 212, '    void setSolidCounts (tools::storage::impl::Partition<Count>* solidCounts) { SP_SETATTR(solidCounts); }'), ('src/gatb/kmer/impl/CountProcessorDump.hpp', 215, '    void setSolidKmers (tools::collections::Bag<Count>* solidKmers)  {  SP_SETATTR(solidKmers);  }')]\n",
      "src/gatb/kmer/impl/CountProcessorProxy.hpp [('src/gatb/kmer/impl/CountProcessorProxy.hpp', 105, '    void setRef (ICountProcessor<span>* ref) { SP_SETATTR(ref); }')]\n",
      "src/gatb/kmer/impl/DebloomAlgorithm.hpp [('src/gatb/kmer/impl/DebloomAlgorithm.hpp', 183, '    void setSolidIterable (tools::storage::impl::Partition<Count>* solidIterable)  {  SP_SETATTR(solidIterable); }'), ('src/gatb/kmer/impl/DebloomAlgorithm.hpp', 189, '    void setDebloomStructures (debruijn::IContainerNode<Type>* container)  { SP_SETATTR(container); }')]\n",
      "src/gatb/kmer/impl/MPHFAlgorithm.hpp [('src/gatb/kmer/impl/MPHFAlgorithm.hpp', 145, '    void setSolidCounts (tools::collections::Iterable<Count>* solidCounts)  {  SP_SETATTR(solidCounts); }'), ('src/gatb/kmer/impl/MPHFAlgorithm.hpp', 149, '    void setSolidKmers (tools::collections::Iterable<Type>* solidKmers)  {  SP_SETATTR(solidKmers); }'), ('src/gatb/kmer/impl/MPHFAlgorithm.hpp', 155, '    void setAbundanceMap (AbundanceMap* abundanceMap)  { SP_SETATTR(abundanceMap); }'), ('src/gatb/kmer/impl/MPHFAlgorithm.hpp', 156, '    void setNodeStateMap (NodeStateMap* nodeStateMap)  { SP_SETATTR(nodeStateMap); }'), ('src/gatb/kmer/impl/MPHFAlgorithm.hpp', 157, '    void setAdjacencyMap (AdjacencyMap* adjacencyMap)  { SP_SETATTR(adjacencyMap); }'), ('src/gatb/kmer/impl/MPHFAlgorithm.hpp', 181, '    void setProgress (tools::dp::IteratorListener* progress)  { SP_SETATTR(progress); }')]\n",
      "src/gatb/kmer/impl/CountProcessorHistogram.hpp [('src/gatb/kmer/impl/CountProcessorHistogram.hpp', 159, '    void setHistogram (gatb::core::tools::misc::IHistogram* histogram)  { SP_SETATTR(histogram); }')]\n",
      "src/gatb/kmer/impl/PartitionsCommand.hpp [('src/gatb/kmer/impl/PartitionsCommand.hpp', 157, '    void setProcessor (CountProcessor* processor)  { SP_SETATTR(processor); }'), ('src/gatb/kmer/impl/PartitionsCommand.hpp', 328, '\\tvoid setProcessor (CountProcessor* processor)  { SP_SETATTR(processor); }')]\n",
      "src/gatb/kmer/impl/SortingCountAlgorithm.hpp [('src/gatb/kmer/impl/SortingCountAlgorithm.hpp', 223, '    void setBank (gatb::core::bank::IBank* bank)  { SP_SETATTR(bank); }'), ('src/gatb/kmer/impl/SortingCountAlgorithm.hpp', 227, '    void setRepartitor (Repartitor* repartitor)  { SP_SETATTR(repartitor); }'), ('src/gatb/kmer/impl/SortingCountAlgorithm.hpp', 235, '    void setProgress (gatb::core::tools::dp::IteratorListener* progress)  { SP_SETATTR(progress); }'), ('src/gatb/kmer/impl/SortingCountAlgorithm.hpp', 239, '    void setPartitionsStorage (tools::storage::impl::Storage* tmpPartitionsStorage)  {  SP_SETATTR(tmpPartitionsStorage);  }'), ('src/gatb/kmer/impl/SortingCountAlgorithm.hpp', 243, '    void setPartitions (tools::storage::impl::Partition<Type>* tmpPartitions)  {  SP_SETATTR(tmpPartitions);  }'), ('src/gatb/kmer/impl/SortingCountAlgorithm.hpp', 257, '    void setStorage (tools::storage::impl::Storage* storage)  { SP_SETATTR(storage); }')]\n",
      "src/gatb/system/api/ISmartPointer.hpp [('src/gatb/system/api/ISmartPointer.hpp', 64, ' *  and destructors. Moreover, one can use the SP_SETATTR macro which eases this process.'), ('src/gatb/system/api/ISmartPointer.hpp', 67, ' *  \\\\see SP_SETATTR'), ('src/gatb/system/api/ISmartPointer.hpp', 94, ' *  \\\\see SP_SETATTR'), ('src/gatb/system/api/ISmartPointer.hpp', 217, ' * \\\\li in the private (or protected) part, defines a smart setter for the attribute by using the SP_SETATTR macro'), ('src/gatb/system/api/ISmartPointer.hpp', 228, ' *      void setPtr (SomeSmartPointerClass* ptr)  { SP_SETATTR(ptr); }'), ('src/gatb/system/api/ISmartPointer.hpp', 234, '#define SP_SETATTR(a)  \\\\'), ('src/gatb/system/api/ISmartPointer.hpp', 256, '    void setRef (ISmartPointer* ref)  {  SP_SETATTR(ref); }')]\n",
      "src/gatb/tools/collections/impl/BagCache.hpp [('src/gatb/tools/collections/impl/BagCache.hpp', 117, '    void setRef (Bag<Item>* ref)  { SP_SETATTR(ref); }'), ('src/gatb/tools/collections/impl/BagCache.hpp', 120, '    void setSynchro (system::ISynchronizer* synchro)  { SP_SETATTR(synchro); }'), ('src/gatb/tools/collections/impl/BagCache.hpp', 195, '    void setOutSynchro (system::ISynchronizer* outsynchro)  { SP_SETATTR(outsynchro); }')]\n",
      "src/gatb/tools/collections/impl/CollectionAbstract.hpp [('src/gatb/tools/collections/impl/CollectionAbstract.hpp', 135, '    void setBag (Bag<Item>* bag)  { SP_SETATTR(bag); }'), ('src/gatb/tools/collections/impl/CollectionAbstract.hpp', 138, '    void setIterable (Iterable<Item>* iterable)  { SP_SETATTR(iterable); }')]\n",
      "src/gatb/tools/compression/Leon.hpp [('src/gatb/tools/compression/Leon.hpp', 271, '\\t\\tvoid setInputBank (IBank* inputBank) { SP_SETATTR(inputBank); }')]\n",
      "src/gatb/tools/designpattern/impl/Command.cpp [('src/gatb/tools/designpattern/impl/Command.cpp', 58, '    void setRef (ICommand* ref)  { SP_SETATTR(ref); }')]\n",
      "src/gatb/tools/designpattern/impl/IteratorHelpers.hpp [('src/gatb/tools/designpattern/impl/IteratorHelpers.hpp', 258, '    void setIt1 (Iterator<T1>* it1)  { SP_SETATTR(it1); }'), ('src/gatb/tools/designpattern/impl/IteratorHelpers.hpp', 262, '    void setIt2 (Iterator<T2>* it2)  { SP_SETATTR(it2); }'), ('src/gatb/tools/designpattern/impl/IteratorHelpers.hpp', 461, '    void setRef (Iterator<Item>* ref)  { SP_SETATTR(ref); }'), ('src/gatb/tools/designpattern/impl/IteratorHelpers.hpp', 699, '    void setRef (Iterator<Item>* ref)  { SP_SETATTR(ref); }'), ('src/gatb/tools/designpattern/impl/IteratorHelpers.hpp', 1048, '    void setRef (Iterator<T1>* ref)  { SP_SETATTR(ref); }')]\n",
      "src/gatb/tools/misc/api/Vector.hpp [('src/gatb/tools/misc/api/Vector.hpp', 143, '    void setRef (Vector* ref)  {  SP_SETATTR(ref);  }')]\n",
      "src/gatb/tools/misc/impl/Algorithm.hpp [('src/gatb/tools/misc/impl/Algorithm.hpp', 184, '    void setInput      (IProperties*            input)       { SP_SETATTR (input);      }'), ('src/gatb/tools/misc/impl/Algorithm.hpp', 185, '    void setOutput     (IProperties*            output)      { SP_SETATTR (output);     }'), ('src/gatb/tools/misc/impl/Algorithm.hpp', 186, '    void setInfo       (IProperties*            info)        { SP_SETATTR (info);       }'), ('src/gatb/tools/misc/impl/Algorithm.hpp', 187, '    void setSystemInfo (IProperties*            systemInfo)  { SP_SETATTR (systemInfo); }'), ('src/gatb/tools/misc/impl/Algorithm.hpp', 188, '    void setDispatcher (dp::IDispatcher*        dispatcher)  { SP_SETATTR (dispatcher); }')]\n",
      "src/gatb/tools/misc/impl/OptionsParser.hpp [('src/gatb/tools/misc/impl/OptionsParser.hpp', 136, '    void setProperties (misc::IProperties* properties)  { SP_SETATTR(properties); }')]\n",
      "src/gatb/tools/misc/impl/Progress.hpp [('src/gatb/tools/misc/impl/Progress.hpp', 183, '    void setCpuInfo (system::ISystemInfo::CpuInfo* cpuinfo)  { SP_SETATTR(cpuinfo); }'), ('src/gatb/tools/misc/impl/Progress.hpp', 227, '    void setRef (dp::IteratorListener* ref)  { SP_SETATTR(ref); }'), ('src/gatb/tools/misc/impl/Progress.hpp', 267, '    void setSynchro (system::ISynchronizer* synchro)  { SP_SETATTR(synchro); }')]\n",
      "src/gatb/tools/misc/impl/Tool.hpp [('src/gatb/tools/misc/impl/Tool.hpp', 217, '    void setInput      (IProperties*            input)       { SP_SETATTR (input);      }'), ('src/gatb/tools/misc/impl/Tool.hpp', 218, '    void setOutput     (IProperties*            output)      { SP_SETATTR (output);     }'), ('src/gatb/tools/misc/impl/Tool.hpp', 219, '    void setInfo       (IProperties*            info)        { SP_SETATTR (info);       }'), ('src/gatb/tools/misc/impl/Tool.hpp', 220, '    void setParser     (IOptionsParser*         parser)      { SP_SETATTR (parser);     }'), ('src/gatb/tools/misc/impl/Tool.hpp', 221, '    void setDispatcher (dp::IDispatcher*        dispatcher)  { SP_SETATTR (dispatcher); }')]\n",
      "src/gatb/tools/misc/impl/Histogram.hpp [('src/gatb/tools/misc/impl/Histogram.hpp', 219, '    void setRef (IHistogram* ref)  { SP_SETATTR(ref); }')]\n",
      "src/gatb/tools/misc/impl/Pool.hpp [('src/gatb/tools/misc/impl/Pool.hpp', 432, '    void setSynchro (system::ISynchronizer* synchro) { SP_SETATTR(synchro); }')]\n",
      "src/gatb/tools/storage/impl/CollectionHDF5Patch.hpp [('src/gatb/tools/storage/impl/CollectionHDF5Patch.hpp', 313, '    void setCommon (CollectionDataHDF5Patch<Item>* common)  { SP_SETATTR(common); }'), ('src/gatb/tools/storage/impl/CollectionHDF5Patch.hpp', 362, '    void setCommon (CollectionDataHDF5Patch<Item>* common)  { SP_SETATTR(common); }')]\n",
      "src/gatb/tools/storage/impl/Storage.cpp [('src/gatb/tools/storage/impl/Storage.cpp', 107, '    SP_SETATTR(factory);')]\n",
      "src/gatb/tools/storage/impl/Storage.hpp [('src/gatb/tools/storage/impl/Storage.hpp', 144, '    void setRef (collections::Collection<Item>* ref)  { SP_SETATTR(ref); }'), ('src/gatb/tools/storage/impl/Storage.hpp', 573, '    void setRoot (Group* root)  { SP_SETATTR(root); }')]\n"
     ]
    }
   ],
   "source": [
    "for k, g in itertools.groupby(get_cpp_files(), key=lambda x: x[0]):\n",
    "    print(k, list(g))"
   ]
  },
  {
   "cell_type": "code",
   "execution_count": 235,
   "metadata": {},
   "outputs": [
    {
     "data": {
      "text/plain": [
       "[]"
      ]
     },
     "execution_count": 235,
     "metadata": {},
     "output_type": "execute_result"
    }
   ],
   "source": [
    "list(_)"
   ]
  },
  {
   "cell_type": "code",
   "execution_count": 220,
   "metadata": {},
   "outputs": [
    {
     "data": {
      "text/plain": [
       "'        void setBufferData (tools::misc::Data* bufferData)  { _bufferData = bufferData; }'"
      ]
     },
     "execution_count": 220,
     "metadata": {},
     "output_type": "execute_result"
    }
   ],
   "source": [
    "re.sub(r'SP_SETATTR\\((\\w+?)\\);', r'_\\1 = \\1;', source)"
   ]
  },
  {
   "cell_type": "code",
   "execution_count": 70,
   "metadata": {},
   "outputs": [],
   "source": [
    "\n",
    "index = Index.create()"
   ]
  },
  {
   "cell_type": "code",
   "execution_count": 56,
   "metadata": {},
   "outputs": [],
   "source": [
    "def print_children(c, select_name=None, select_kind=None):\n",
    "    res = []\n",
    "    for child in c.get_children():\n",
    "        print(child.kind.name, child.spelling)\n",
    "        if child.spelling == select_name or child.kind == select_kind:\n",
    "            res.append(child)\n",
    "    if res: return res"
   ]
  },
  {
   "cell_type": "code",
   "execution_count": 45,
   "metadata": {},
   "outputs": [],
   "source": [
    "args='-I./src -I/usr/lib/clang/5.0.1/include/'.split()\n",
    "tu = index.parse(f, args=args)\n",
    "for d in tu.diagnostics:\n",
    "    if d.severity > 3:\n",
    "        print(d.spelling)"
   ]
  },
  {
   "cell_type": "code",
   "execution_count": 60,
   "metadata": {},
   "outputs": [],
   "source": [
    "def get_gatb_namespace(tu):\n",
    "    lastgatb = None\n",
    "    for child in tu.cursor.get_children():\n",
    "        if child.kind == CursorKind.NAMESPACE and child.spelling == 'gatb':\n",
    "            lastgatb = child\n",
    "    return lastgatb\n",
    "\n",
    "gatb = get_gatb_namespace(tu)"
   ]
  },
  {
   "cell_type": "code",
   "execution_count": 124,
   "metadata": {},
   "outputs": [],
   "source": [
    "def find_classes(c):\n",
    "    for child in c.get_children():\n",
    "        if child.kind == CursorKind.NAMESPACE:\n",
    "            yield from find_classes(child)\n",
    "        elif child.kind == CursorKind.CLASS_DECL:\n",
    "            yield child\n",
    "            yield from find_classes(child)\n",
    "            \n",
    "c = list(find_classes(gatb))[1]"
   ]
  },
  {
   "cell_type": "code",
   "execution_count": 125,
   "metadata": {},
   "outputs": [
    {
     "name": "stdout",
     "output_type": "stream",
     "text": [
      "CXX_BASE_SPECIFIER tools::dp::Iterator<Sequence>\n",
      "CXX_ACCESS_SPEC_DECL \n",
      "CONSTRUCTOR Iterator\n",
      "DESTRUCTOR ~Iterator\n",
      "CXX_METHOD first\n",
      "CXX_METHOD next\n",
      "CXX_METHOD isDone\n",
      "CXX_METHOD item\n",
      "CXX_METHOD estimate\n",
      "CXX_ACCESS_SPEC_DECL \n",
      "FIELD_DECL _ref\n",
      "FIELD_DECL _isDone\n",
      "FIELD_DECL _bufferData\n",
      "CXX_METHOD setBufferData\n",
      "FIELD_DECL cpt_buffer\n",
      "FIELD_DECL blocksize_toread\n",
      "FIELD_DECL nseq_lues\n",
      "FIELD_DECL binary_read_file\n",
      "FIELD_DECL _index\n"
     ]
    }
   ],
   "source": [
    "c = print_children(c, 'setBufferData')[0]"
   ]
  },
  {
   "cell_type": "code",
   "execution_count": 129,
   "metadata": {},
   "outputs": [
    {
     "name": "stdout",
     "output_type": "stream",
     "text": [
      "PARM_DECL bufferData\n",
      "COMPOUND_STMT \n",
      "COMPOUND_STMT \n",
      "NULL_STMT \n"
     ]
    }
   ],
   "source": [
    "stmt = print_children(c, select_kind=CursorKind.COMPOUND_STMT)[0]\n",
    "stmt = print_children(stmt, select_kind=CursorKind.COMPOUND_STMT)[0]"
   ]
  },
  {
   "cell_type": "code",
   "execution_count": 137,
   "metadata": {},
   "outputs": [],
   "source": [
    "c = stmt"
   ]
  },
  {
   "cell_type": "code",
   "execution_count": 160,
   "metadata": {},
   "outputs": [
    {
     "name": "stdout",
     "output_type": "stream",
     "text": [
      "b'        void setBufferData (tools::misc::Data* bufferData)  { SP_SETATTR(bufferData); }\\n'\n"
     ]
    },
    {
     "data": {
      "text/plain": [
       "([b'(bufferData); }'],)"
      ]
     },
     "execution_count": 160,
     "metadata": {},
     "output_type": "execute_result"
    }
   ],
   "source": [
    "extent = c.extent\n",
    "start = extent.start\n",
    "sline = start.line\n",
    "scol = start.column\n",
    "end = extent.end\n",
    "eline = end.line\n",
    "ecol = end.column\n",
    "fname = c.extent.end.file.name\n",
    "\n",
    "inrange = False\n",
    "out = []\n",
    "for i,line in enumerate(open(fname, 'rb'), 1):\n",
    "    if i == sline: inrange = True\n",
    "        \n",
    "    if inrange:\n",
    "        print(line)\n",
    "        if i == eline:\n",
    "            inrange = False\n",
    "            if i == sline:\n",
    "                out.append(line.strip()[scol+1:ecol+1])\n",
    "            else:\n",
    "                out.append(line[:ecol])\n",
    "        else:\n",
    "            if i == sline:\n",
    "                out.append(line.strip()[scol:])\n",
    "            out.append(line.strip())\n",
    "    \n",
    "out, "
   ]
  },
  {
   "cell_type": "code",
   "execution_count": 162,
   "metadata": {},
   "outputs": [],
   "source": [
    "f = tu.get_file(f)"
   ]
  },
  {
   "cell_type": "code",
   "execution_count": 175,
   "metadata": {},
   "outputs": [
    {
     "name": "stdout",
     "output_type": "stream",
     "text": [
      "IF_STMT \n",
      "IF_STMT \n",
      "BINARY_OPERATOR \n",
      "IF_STMT \n",
      "MEMBER_REF_EXPR _bufferData\n",
      "UNEXPOSED_EXPR bufferData\n"
     ]
    }
   ],
   "source": [
    "stmt = tu.cursor.from_location(tu, extent.start)\n",
    "stmt = print_children(stmt, select_kind=CursorKind.BINARY_OPERATOR)[0]\n",
    "stmt = print_children(stmt, select_kind=CursorKind.MEMBER_REF_EXPR)[0]"
   ]
  },
  {
   "cell_type": "code",
   "execution_count": 179,
   "metadata": {},
   "outputs": [
    {
     "data": {
      "text/plain": [
       "'_bufferData'"
      ]
     },
     "execution_count": 179,
     "metadata": {},
     "output_type": "execute_result"
    }
   ],
   "source": [
    "stmt.spelling"
   ]
  },
  {
   "cell_type": "code",
   "execution_count": 171,
   "metadata": {},
   "outputs": [
    {
     "data": {
      "text/plain": [
       "<clang.cindex.Cursor at 0x7f1856083620>"
      ]
     },
     "execution_count": 171,
     "metadata": {},
     "output_type": "execute_result"
    }
   ],
   "source": [
    "stmt=stmt[0[0]"
   ]
  },
  {
   "cell_type": "code",
   "execution_count": 174,
   "metadata": {},
   "outputs": [
    {
     "name": "stdout",
     "output_type": "stream",
     "text": [
      "MEMBER_REF_EXPR _bufferData\n",
      "UNEXPOSED_EXPR bufferData\n"
     ]
    }
   ],
   "source": []
  },
  {
   "cell_type": "code",
   "execution_count": 105,
   "metadata": {},
   "outputs": [
    {
     "data": {
      "text/plain": [
       "TypeKind.POINTER"
      ]
     },
     "execution_count": 105,
     "metadata": {},
     "output_type": "execute_result"
    }
   ],
   "source": [
    "c = list(child.get_arguments())[0]\n",
    "t = c.type.get_canonical()\n"
   ]
  }
 ],
 "metadata": {
  "kernelspec": {
   "display_name": "Python 3",
   "language": "python",
   "name": "python3"
  },
  "language_info": {
   "codemirror_mode": {
    "name": "ipython",
    "version": 3
   },
   "file_extension": ".py",
   "mimetype": "text/x-python",
   "name": "python",
   "nbconvert_exporter": "python",
   "pygments_lexer": "ipython3",
   "version": "3.6.4"
  }
 },
 "nbformat": 4,
 "nbformat_minor": 2
}
